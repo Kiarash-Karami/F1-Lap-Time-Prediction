{
 "cells": [
  {
   "cell_type": "code",
   "execution_count": 2,
   "id": "10edcbe6-ea5c-4840-a60b-f3192c64bae9",
   "metadata": {},
   "outputs": [],
   "source": [
    "import numpy as np\n",
    "import pandas as pd"
   ]
  },
  {
   "cell_type": "code",
   "execution_count": 3,
   "id": "37456954-4c0c-4a8a-90a0-ec82c4597a9e",
   "metadata": {},
   "outputs": [],
   "source": [
    "df = pd.read_csv(\"f1_lap_time_dataset.csv\")"
   ]
  },
  {
   "cell_type": "code",
   "execution_count": 4,
   "id": "afdffc06-5a36-4743-ad85-01c057440fbe",
   "metadata": {},
   "outputs": [],
   "source": [
    "df.dropna(subset=[\"lap_time_ms\"], inplace=True)"
   ]
  },
  {
   "cell_type": "code",
   "execution_count": 5,
   "id": "fa341e01-ca6b-425c-adf5-6f11319d3e5c",
   "metadata": {},
   "outputs": [],
   "source": [
    "df[\"lap_time_sec\"] = df[\"lap_time_ms\"] / 1000\n",
    "df.drop(columns=[\"lap_time_ms\"], inplace=True)"
   ]
  },
  {
   "cell_type": "code",
   "execution_count": 6,
   "id": "78ce4e7c-d77d-44b8-8fdc-b0de593f644a",
   "metadata": {},
   "outputs": [],
   "source": [
    "categorical_cols = [\"circuit_name\", \"circuit_country\", \"driver_id\"]\n",
    "for col in categorical_cols:\n",
    "    unique_values = df[col].unique()\n",
    "    mapping = {val: idx for idx, val in enumerate(unique_values)}\n",
    "    df[col] = df[col].map(mapping)"
   ]
  },
  {
   "cell_type": "code",
   "execution_count": 7,
   "id": "09d078c9-23ca-4079-96dc-a5e785cb26f0",
   "metadata": {},
   "outputs": [],
   "source": [
    "df = pd.concat([df, pd.get_dummies(df[\"tire_compound\"], prefix=\"tire_compound\")], axis=1)\n",
    "df.drop(columns=[\"tire_compound\"], inplace=True)"
   ]
  },
  {
   "cell_type": "code",
   "execution_count": 8,
   "id": "4f3686a8-b34b-4e06-8121-4cd7fb84f290",
   "metadata": {},
   "outputs": [],
   "source": [
    "num_cols = [\"estimated_horsepower\", \"car_weight\", \"track_temperature\", \"driving_aggression\", \"fuel_load_percent\"]\n",
    "for col in num_cols:\n",
    "    min_val = df[col].min()\n",
    "    max_val = df[col].max()\n",
    "    df[col] = (df[col] - min_val) / (max_val - min_val)"
   ]
  },
  {
   "cell_type": "code",
   "execution_count": 10,
   "id": "9b673163-1662-4956-b0d1-29ff6691bbc6",
   "metadata": {},
   "outputs": [],
   "source": [
    "df.to_csv(\"updated_f1_lap_time_dataset.csv\")"
   ]
  }
 ],
 "metadata": {
  "kernelspec": {
   "display_name": "Python 3 (ipykernel)",
   "language": "python",
   "name": "python3"
  },
  "language_info": {
   "codemirror_mode": {
    "name": "ipython",
    "version": 3
   },
   "file_extension": ".py",
   "mimetype": "text/x-python",
   "name": "python",
   "nbconvert_exporter": "python",
   "pygments_lexer": "ipython3",
   "version": "3.12.4"
  }
 },
 "nbformat": 4,
 "nbformat_minor": 5
}
